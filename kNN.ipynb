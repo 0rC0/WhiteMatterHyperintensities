{
 "cells": [
  {
   "cell_type": "markdown",
   "metadata": {},
   "source": [
    "# k Nearest Neighbor"
   ]
  },
  {
   "cell_type": "code",
   "execution_count": null,
   "metadata": {},
   "outputs": [],
   "source": [
    "%matplotlib inline\n",
    "import os \n",
    "import numpy as np\n",
    "import matplotlib.pyplot as plt\n",
    "from mpl_toolkits.mplot3d import Axes3D\n",
    "import pandas as pd\n",
    "import csv\n",
    "#from pandas.tools.plotting import scatter_matrix\n",
    "from sklearn import preprocessing\n",
    "import nibabel as nib\n",
    "from nilearn import plotting as plotting\n",
    "import glob"
   ]
  },
  {
   "cell_type": "code",
   "execution_count": null,
   "metadata": {},
   "outputs": [],
   "source": [
    "def binaryze_mask(in_file, out_file):\n",
    "    from nipype.interfaces.fsl.maths import UnaryMaths\n",
    "    binaryze_mask = UnaryMaths()\n",
    "    binaryze_mask.inputs.in_file = in_file\n",
    "    binaryze_mask.inputs.operation = 'bin'\n",
    "    binaryze_mask.inputs.out_file = out_file\n",
    "    #print(binaryze_mask.cmdline)\n",
    "    binaryze_mask.run()\n",
    "    return out_file\n",
    "\n",
    "def thrp_mask(in_file, out_file, thr):\n",
    "    from nipype.interfaces.fsl.maths import Threshold\n",
    "    thrp_mask = Threshold()\n",
    "    thrp_mask.inputs.in_file = in_file\n",
    "    thrp_mask.inputs.thresh = int(thr)\n",
    "    thrp_mask.inputs.use_robust_range = True\n",
    "    thrp_mask.inputs.out_file = out_file\n",
    "    print(thrp_mask.cmdline)\n",
    "    thrp_mask.run()\n",
    "    return out_file"
   ]
  },
  {
   "cell_type": "code",
   "execution_count": null,
   "metadata": {},
   "outputs": [],
   "source": [
    "os.getcwd()"
   ]
  },
  {
   "cell_type": "code",
   "execution_count": null,
   "metadata": {},
   "outputs": [],
   "source": [
    "data_folder = '../20190801'"
   ]
  },
  {
   "cell_type": "markdown",
   "metadata": {},
   "source": [
    "## Extract data from preprocessed niftis and store them in concatenated numpy arrays"
   ]
  },
  {
   "cell_type": "code",
   "execution_count": 184,
   "metadata": {},
   "outputs": [],
   "source": [
    "train_subjects = ['SMART005', 'SMART008', 'SMART010']"
   ]
  },
  {
   "cell_type": "code",
   "execution_count": 185,
   "metadata": {},
   "outputs": [],
   "source": [
    "flairs = glob.glob(data_folder + '/SMART0*/flair/SMART0*.flair_ro_n4_2t1Warped_brain.nii.gz')"
   ]
  },
  {
   "cell_type": "code",
   "execution_count": 186,
   "metadata": {},
   "outputs": [],
   "source": [
    "t1s = glob.glob(data_folder + '/SMART0*/anat/SMART0*.anat_ro_n4_optiBET_brain.nii.gz')"
   ]
  },
  {
   "cell_type": "code",
   "execution_count": 187,
   "metadata": {},
   "outputs": [],
   "source": [
    "les = [data_folder + '/SMART005/flair/ples_lpa_mSMART005.flair_ro_n4_2t1Warped.nii',\n",
    "      data_folder + '/SMART008/flair/ples_lpa_mSMART008.flair_ro_n4_2t1Warped.nii',\n",
    "      data_folder + '/SMART010/flair/ples_lpa_mSMART010.flair_ro_n4_2t1Warped.nii']\n",
    "#les_bin = [data_folder + '/SMART005/flair/ples_lpa_mSMART005.flair_ro_n4_2t1Warped_bin.nii.gz',\n",
    "#      data_folder + '/SMART008/flair/ples_lpa_mSMART008.flair_ro_n4_2t1Warped_bin.nii.gz',\n",
    "#      data_folder + '/SMART010/flair/ples_lpa_mSMART010.flair_ro_n4_2t1Warped_bin.nii.gz']"
   ]
  },
  {
   "cell_type": "code",
   "execution_count": 188,
   "metadata": {},
   "outputs": [
    {
     "data": {
      "text/plain": [
       "[True, True, True]"
      ]
     },
     "execution_count": 188,
     "metadata": {},
     "output_type": "execute_result"
    }
   ],
   "source": [
    "[os.path.isfile(i) for i in les]"
   ]
  },
  {
   "cell_type": "code",
   "execution_count": 189,
   "metadata": {},
   "outputs": [
    {
     "name": "stdout",
     "output_type": "stream",
     "text": [
      "fslmaths ../20190801/SMART005/flair/ples_lpa_mSMART005.flair_ro_n4_2t1Warped.nii -thrp 80.0000000000 ../20190801/SMART005/flair/ples_lpa_mSMART005.flair_ro_n4_2t1Warped_thrp80.nii.gz\n",
      "fslmaths ../20190801/SMART008/flair/ples_lpa_mSMART008.flair_ro_n4_2t1Warped.nii -thrp 80.0000000000 ../20190801/SMART008/flair/ples_lpa_mSMART008.flair_ro_n4_2t1Warped_thrp80.nii.gz\n",
      "fslmaths ../20190801/SMART010/flair/ples_lpa_mSMART010.flair_ro_n4_2t1Warped.nii -thrp 80.0000000000 ../20190801/SMART010/flair/ples_lpa_mSMART010.flair_ro_n4_2t1Warped_thrp80.nii.gz\n"
     ]
    }
   ],
   "source": [
    "les_thr = [i for i in [thrp_mask(j, '..' + j.strip('.nii') + '_thrp80.nii.gz', 80) for j in les]]"
   ]
  },
  {
   "cell_type": "code",
   "execution_count": 190,
   "metadata": {},
   "outputs": [],
   "source": [
    "les_bin = [i for i in [binaryze_mask(j, '..' + j.strip('.nii.gz') + '_thrp80_bin.nii.gz') for j in les_thr]]"
   ]
  },
  {
   "cell_type": "code",
   "execution_count": 191,
   "metadata": {},
   "outputs": [],
   "source": [
    "#print(flairs)\n",
    "#print(t1s)\n",
    "#print(les)"
   ]
  },
  {
   "cell_type": "code",
   "execution_count": 192,
   "metadata": {},
   "outputs": [
    {
     "data": {
      "text/plain": [
       "[True, True, True]"
      ]
     },
     "execution_count": 192,
     "metadata": {},
     "output_type": "execute_result"
    }
   ],
   "source": [
    " [os.path.isfile(i) for i in t1s ]"
   ]
  },
  {
   "cell_type": "markdown",
   "metadata": {},
   "source": [
    "## Plotting"
   ]
  },
  {
   "cell_type": "code",
   "execution_count": 95,
   "metadata": {},
   "outputs": [],
   "source": [
    "#plotting.plot_anat(wm_t1s[0], display_mode = 'z', black_bg = False)"
   ]
  },
  {
   "cell_type": "code",
   "execution_count": 96,
   "metadata": {},
   "outputs": [],
   "source": [
    "#plotting.plot_anat(wm_flairs[0], display_mode = 'z', black_bg = False)"
   ]
  },
  {
   "cell_type": "code",
   "execution_count": 79,
   "metadata": {},
   "outputs": [],
   "source": [
    "#plotting.plot_roi(les[0], wm_flairs[0], display_mode = 'z', cmap='Paired', black_bg = False)"
   ]
  },
  {
   "cell_type": "markdown",
   "metadata": {},
   "source": [
    "# Open and Concatenate data"
   ]
  },
  {
   "cell_type": "code",
   "execution_count": 193,
   "metadata": {},
   "outputs": [],
   "source": [
    "t1_values = np.concatenate(tuple([nib.load(i).get_data() for i in t1s]))\n",
    "flair_values = np.concatenate(tuple([nib.load(i).get_data() for i in flairs]))\n",
    "les_values = np.concatenate(tuple([nib.load(i).get_data() for i in les_bin]))\n"
   ]
  },
  {
   "cell_type": "code",
   "execution_count": 194,
   "metadata": {},
   "outputs": [
    {
     "data": {
      "text/plain": [
       "(576, 256, 256)"
      ]
     },
     "execution_count": 194,
     "metadata": {},
     "output_type": "execute_result"
    }
   ],
   "source": [
    "t1_values.shape"
   ]
  },
  {
   "cell_type": "code",
   "execution_count": 195,
   "metadata": {},
   "outputs": [
    {
     "data": {
      "text/plain": [
       "True"
      ]
     },
     "execution_count": 195,
     "metadata": {},
     "output_type": "execute_result"
    }
   ],
   "source": [
    "t1_values.shape == flair_values.shape == les_values.shape"
   ]
  },
  {
   "cell_type": "code",
   "execution_count": null,
   "metadata": {},
   "outputs": [],
   "source": []
  },
  {
   "cell_type": "code",
   "execution_count": 157,
   "metadata": {},
   "outputs": [
    {
     "data": {
      "text/plain": [
       "array([], shape=(0, 3), dtype=int64)"
      ]
     },
     "execution_count": 157,
     "metadata": {},
     "output_type": "execute_result"
    }
   ],
   "source": [
    "np.argwhere(np.isnan(les_values))"
   ]
  },
  {
   "cell_type": "markdown",
   "metadata": {},
   "source": [
    "## Mean Normalization"
   ]
  },
  {
   "cell_type": "code",
   "execution_count": 196,
   "metadata": {},
   "outputs": [],
   "source": [
    "nt1= t1_values / np.mean(t1_values[np.nonzero(t1_values)])\n",
    "nflair = flair_values / np.mean(flair_values[np.nonzero(flair_values)])"
   ]
  },
  {
   "cell_type": "markdown",
   "metadata": {},
   "source": [
    "## Organize Data in Pandas DataFrame"
   ]
  },
  {
   "cell_type": "code",
   "execution_count": 209,
   "metadata": {},
   "outputs": [],
   "source": [
    "df = pd.DataFrame.from_dict({'t1':list(nt1.reshape(-1)), 'flair':list(nflair.reshape(-1)), 'les':list(les_values.reshape(-1))})"
   ]
  },
  {
   "cell_type": "code",
   "execution_count": 210,
   "metadata": {},
   "outputs": [],
   "source": [
    "df_nonzero = df[(df.t1 != 0 ) & (df.flair != 0)]"
   ]
  },
  {
   "cell_type": "code",
   "execution_count": 218,
   "metadata": {},
   "outputs": [
    {
     "data": {
      "text/html": [
       "<div>\n",
       "<style scoped>\n",
       "    .dataframe tbody tr th:only-of-type {\n",
       "        vertical-align: middle;\n",
       "    }\n",
       "\n",
       "    .dataframe tbody tr th {\n",
       "        vertical-align: top;\n",
       "    }\n",
       "\n",
       "    .dataframe thead th {\n",
       "        text-align: right;\n",
       "    }\n",
       "</style>\n",
       "<table border=\"1\" class=\"dataframe\">\n",
       "  <thead>\n",
       "    <tr style=\"text-align: right;\">\n",
       "      <th></th>\n",
       "      <th>t1</th>\n",
       "      <th>flair</th>\n",
       "      <th>les</th>\n",
       "    </tr>\n",
       "  </thead>\n",
       "  <tbody>\n",
       "    <tr>\n",
       "      <td>1925747</td>\n",
       "      <td>0.106620</td>\n",
       "      <td>0.021551</td>\n",
       "      <td>0.0</td>\n",
       "    </tr>\n",
       "    <tr>\n",
       "      <td>1925748</td>\n",
       "      <td>0.268653</td>\n",
       "      <td>0.006080</td>\n",
       "      <td>0.0</td>\n",
       "    </tr>\n",
       "    <tr>\n",
       "      <td>1925749</td>\n",
       "      <td>0.307017</td>\n",
       "      <td>0.014655</td>\n",
       "      <td>0.0</td>\n",
       "    </tr>\n",
       "    <tr>\n",
       "      <td>1925751</td>\n",
       "      <td>0.277199</td>\n",
       "      <td>0.040898</td>\n",
       "      <td>0.0</td>\n",
       "    </tr>\n",
       "    <tr>\n",
       "      <td>1926001</td>\n",
       "      <td>0.123689</td>\n",
       "      <td>0.108057</td>\n",
       "      <td>0.0</td>\n",
       "    </tr>\n",
       "  </tbody>\n",
       "</table>\n",
       "</div>"
      ],
      "text/plain": [
       "               t1     flair  les\n",
       "1925747  0.106620  0.021551  0.0\n",
       "1925748  0.268653  0.006080  0.0\n",
       "1925749  0.307017  0.014655  0.0\n",
       "1925751  0.277199  0.040898  0.0\n",
       "1926001  0.123689  0.108057  0.0"
      ]
     },
     "execution_count": 218,
     "metadata": {},
     "output_type": "execute_result"
    }
   ],
   "source": [
    "df_nonzero.head()"
   ]
  },
  {
   "cell_type": "code",
   "execution_count": 215,
   "metadata": {},
   "outputs": [],
   "source": [
    "# Input is every column but the les\n",
    "X = df_nonzero.drop(columns=['les'])"
   ]
  },
  {
   "cell_type": "code",
   "execution_count": 216,
   "metadata": {},
   "outputs": [
    {
     "data": {
      "text/html": [
       "<div>\n",
       "<style scoped>\n",
       "    .dataframe tbody tr th:only-of-type {\n",
       "        vertical-align: middle;\n",
       "    }\n",
       "\n",
       "    .dataframe tbody tr th {\n",
       "        vertical-align: top;\n",
       "    }\n",
       "\n",
       "    .dataframe thead th {\n",
       "        text-align: right;\n",
       "    }\n",
       "</style>\n",
       "<table border=\"1\" class=\"dataframe\">\n",
       "  <thead>\n",
       "    <tr style=\"text-align: right;\">\n",
       "      <th></th>\n",
       "      <th>t1</th>\n",
       "      <th>flair</th>\n",
       "    </tr>\n",
       "  </thead>\n",
       "  <tbody>\n",
       "    <tr>\n",
       "      <td>1925747</td>\n",
       "      <td>0.106620</td>\n",
       "      <td>0.021551</td>\n",
       "    </tr>\n",
       "    <tr>\n",
       "      <td>1925748</td>\n",
       "      <td>0.268653</td>\n",
       "      <td>0.006080</td>\n",
       "    </tr>\n",
       "    <tr>\n",
       "      <td>1925749</td>\n",
       "      <td>0.307017</td>\n",
       "      <td>0.014655</td>\n",
       "    </tr>\n",
       "    <tr>\n",
       "      <td>1925751</td>\n",
       "      <td>0.277199</td>\n",
       "      <td>0.040898</td>\n",
       "    </tr>\n",
       "    <tr>\n",
       "      <td>1926001</td>\n",
       "      <td>0.123689</td>\n",
       "      <td>0.108057</td>\n",
       "    </tr>\n",
       "  </tbody>\n",
       "</table>\n",
       "</div>"
      ],
      "text/plain": [
       "               t1     flair\n",
       "1925747  0.106620  0.021551\n",
       "1925748  0.268653  0.006080\n",
       "1925749  0.307017  0.014655\n",
       "1925751  0.277199  0.040898\n",
       "1926001  0.123689  0.108057"
      ]
     },
     "execution_count": 216,
     "metadata": {},
     "output_type": "execute_result"
    }
   ],
   "source": [
    "X.head()"
   ]
  },
  {
   "cell_type": "code",
   "execution_count": 225,
   "metadata": {},
   "outputs": [],
   "source": [
    "y = df_nonzero.les"
   ]
  },
  {
   "cell_type": "code",
   "execution_count": 226,
   "metadata": {},
   "outputs": [],
   "source": [
    "## Split the dataset into train and test data"
   ]
  },
  {
   "cell_type": "code",
   "execution_count": 289,
   "metadata": {},
   "outputs": [],
   "source": [
    "from sklearn.model_selection import train_test_split\n",
    "\n",
    "#split dataset into train and test data\n",
    "X_train, X_test, y_train, y_test = train_test_split(X, y, test_size=0.2, random_state=1, stratify=y)"
   ]
  },
  {
   "cell_type": "code",
   "execution_count": null,
   "metadata": {},
   "outputs": [],
   "source": [
    "## Building and training the model"
   ]
  },
  {
   "cell_type": "code",
   "execution_count": 232,
   "metadata": {},
   "outputs": [
    {
     "name": "stdout",
     "output_type": "stream",
     "text": [
      "CPU times: user 6.13 s, sys: 66.4 ms, total: 6.2 s\n",
      "Wall time: 6.18 s\n"
     ]
    },
    {
     "data": {
      "text/plain": [
       "KNeighborsClassifier(algorithm='auto', leaf_size=30, metric='minkowski',\n",
       "                     metric_params=None, n_jobs=7, n_neighbors=100, p=2,\n",
       "                     weights='uniform')"
      ]
     },
     "execution_count": 232,
     "metadata": {},
     "output_type": "execute_result"
    }
   ],
   "source": [
    "%%time\n",
    "from sklearn.neighbors import KNeighborsClassifier\n",
    "\n",
    "# Create KNN classifier\n",
    "knn = KNeighborsClassifier(n_neighbors = 100, n_jobs=7)\n",
    "\n",
    "# Fit the classifier to the data\n",
    "knn.fit(X,y)"
   ]
  },
  {
   "cell_type": "code",
   "execution_count": 230,
   "metadata": {},
   "outputs": [
    {
     "name": "stdout",
     "output_type": "stream",
     "text": [
      "CPU times: user 1min 5s, sys: 1.47 s, total: 1min 7s\n",
      "Wall time: 34.3 s\n"
     ]
    },
    {
     "data": {
      "text/plain": [
       "array([0., 0., 0., ..., 0., 0., 0.])"
      ]
     },
     "execution_count": 230,
     "metadata": {},
     "output_type": "execute_result"
    }
   ],
   "source": [
    "%%time\n",
    "knn.predict(X_test)"
   ]
  },
  {
   "cell_type": "code",
   "execution_count": 231,
   "metadata": {},
   "outputs": [
    {
     "data": {
      "text/plain": [
       "0.9979728934379782"
      ]
     },
     "execution_count": 231,
     "metadata": {},
     "output_type": "execute_result"
    }
   ],
   "source": [
    "knn.score(X_test, y_test)"
   ]
  },
  {
   "cell_type": "code",
   "execution_count": 291,
   "metadata": {},
   "outputs": [
    {
     "name": "stdout",
     "output_type": "stream",
     "text": [
      "CPU times: user 35min 44s, sys: 30.9 s, total: 36min 15s\n",
      "Wall time: 22min 53s\n"
     ]
    }
   ],
   "source": [
    "%%time\n",
    "scores = dict()\n",
    "for k in range(5,101,5):\n",
    "    knn = KNeighborsClassifier(n_neighbors = k, n_jobs=7)\n",
    "    knn.fit(X_train,y_train)\n",
    "    knn.predict(X_test)\n",
    "    scores[k] = knn.score(X_test, y_test)"
   ]
  },
  {
   "cell_type": "code",
   "execution_count": 293,
   "metadata": {},
   "outputs": [
    {
     "data": {
      "image/png": "[encoded data removed]",
      "text/plain": [
       "<Figure size 432x288 with 1 Axes>"
      ]
     },
     "metadata": {
      "needs_background": "light"
     },
     "output_type": "display_data"
    }
   ],
   "source": [
    "lists = sorted(scores.items())\n",
    "x,y = zip(*lists)\n",
    "\n",
    "fig = plt.figure()\n",
    "ax = fig.add_subplot(111)\n",
    "ax.scatter(x, y, marker = 'o', c = 'r')\n",
    "ax.plot(x, y, c='b')\n",
    "ax.set_xlabel('k')\n",
    "ax.set_ylabel('score')\n",
    "plt.show()"
   ]
  },
  {
   "cell_type": "markdown",
   "metadata": {},
   "source": [
    "# Build Test DataSet"
   ]
  },
  {
   "cell_type": "code",
   "execution_count": 247,
   "metadata": {},
   "outputs": [],
   "source": [
    "test_subjects = ['SMART004', 'SMART007']"
   ]
  },
  {
   "cell_type": "code",
   "execution_count": 248,
   "metadata": {},
   "outputs": [],
   "source": [
    "flairs = [data_folder + '/{0}/flair/{0}.flair_ro_n4_2t1Warped_brain.nii.gz'.format(i) for i in test_subjects ] "
   ]
  },
  {
   "cell_type": "code",
   "execution_count": 249,
   "metadata": {},
   "outputs": [],
   "source": [
    "t1s = [data_folder + '/{0}/anat/{0}.anat_ro_n4_optiBET_brain.nii.gz'.format(i) for i in test_subjects ] "
   ]
  },
  {
   "cell_type": "code",
   "execution_count": 272,
   "metadata": {},
   "outputs": [
    {
     "name": "stdout",
     "output_type": "stream",
     "text": [
      "fslmaths ../20190801/SMART004/flair/ples_lpa_mSMART004.flair_ro_n4_2t1Warped.nii -thrp 80.0000000000 ../20190801/SMART004/flair/ples_lpa_mSMART004.flair_ro_n4_2t1Warped_thrp80.nii.gz\n",
      "fslmaths ../20190801/SMART007/flair/ples_lpa_mSMART007.flair_ro_n4_2t1Warped.nii -thrp 80.0000000000 ../20190801/SMART007/flair/ples_lpa_mSMART007.flair_ro_n4_2t1Warped_thrp80.nii.gz\n"
     ]
    }
   ],
   "source": [
    "les = [data_folder + '/{0}/flair/ples_lpa_m{0}.flair_ro_n4_2t1Warped.nii'.format(i) for i in test_subjects]\n",
    "les_thr = [i for i in [thrp_mask(j, '..' + j.strip('.nii') + '_thrp80.nii.gz', 80) for j in les]]\n",
    "les_bin = [i for i in [binaryze_mask(j, '..' + j.strip('.nii.gz') + '_thrp80_bin.nii.gz') for j in les_thr]]"
   ]
  },
  {
   "cell_type": "code",
   "execution_count": 273,
   "metadata": {},
   "outputs": [],
   "source": [
    "test_t1_values = np.concatenate(tuple([nib.load(i).get_data() for i in t1s]))\n",
    "test_flair_values = np.concatenate(tuple([nib.load(i).get_data() for i in flairs]))\n",
    "test_les_values = np.concatenate(tuple([nib.load(i).get_data() for i in les_bin]))"
   ]
  },
  {
   "cell_type": "code",
   "execution_count": 251,
   "metadata": {},
   "outputs": [],
   "source": [
    "test_nt1= test_t1_values / np.mean(test_t1_values[np.nonzero(test_t1_values)])\n",
    "test_nflair = test_flair_values / np.mean(test_flair_values[np.nonzero(test_flair_values)])"
   ]
  },
  {
   "cell_type": "code",
   "execution_count": 275,
   "metadata": {},
   "outputs": [],
   "source": [
    "test_df = pd.DataFrame.from_dict({'t1':list(test_nt1.reshape(-1)), 'flair':list(test_nflair.reshape(-1)), 'les':list(test_les_values.reshape(-1))})\n",
    "test_df = test_df[(test_df.t1 != 0 ) & (test_df.flair != 0)]"
   ]
  },
  {
   "cell_type": "code",
   "execution_count": 276,
   "metadata": {},
   "outputs": [
    {
     "data": {
      "text/html": [
       "<div>\n",
       "<style scoped>\n",
       "    .dataframe tbody tr th:only-of-type {\n",
       "        vertical-align: middle;\n",
       "    }\n",
       "\n",
       "    .dataframe tbody tr th {\n",
       "        vertical-align: top;\n",
       "    }\n",
       "\n",
       "    .dataframe thead th {\n",
       "        text-align: right;\n",
       "    }\n",
       "</style>\n",
       "<table border=\"1\" class=\"dataframe\">\n",
       "  <thead>\n",
       "    <tr style=\"text-align: right;\">\n",
       "      <th></th>\n",
       "      <th>t1</th>\n",
       "      <th>flair</th>\n",
       "      <th>les</th>\n",
       "    </tr>\n",
       "  </thead>\n",
       "  <tbody>\n",
       "    <tr>\n",
       "      <td>2187928</td>\n",
       "      <td>0.437730</td>\n",
       "      <td>0.202685</td>\n",
       "      <td>0.0</td>\n",
       "    </tr>\n",
       "    <tr>\n",
       "      <td>2187929</td>\n",
       "      <td>0.548742</td>\n",
       "      <td>0.191040</td>\n",
       "      <td>0.0</td>\n",
       "    </tr>\n",
       "    <tr>\n",
       "      <td>2188174</td>\n",
       "      <td>0.300309</td>\n",
       "      <td>0.149035</td>\n",
       "      <td>0.0</td>\n",
       "    </tr>\n",
       "    <tr>\n",
       "      <td>2188175</td>\n",
       "      <td>0.290746</td>\n",
       "      <td>0.146475</td>\n",
       "      <td>0.0</td>\n",
       "    </tr>\n",
       "    <tr>\n",
       "      <td>2188176</td>\n",
       "      <td>0.294400</td>\n",
       "      <td>0.123141</td>\n",
       "      <td>0.0</td>\n",
       "    </tr>\n",
       "  </tbody>\n",
       "</table>\n",
       "</div>"
      ],
      "text/plain": [
       "               t1     flair  les\n",
       "2187928  0.437730  0.202685  0.0\n",
       "2187929  0.548742  0.191040  0.0\n",
       "2188174  0.300309  0.149035  0.0\n",
       "2188175  0.290746  0.146475  0.0\n",
       "2188176  0.294400  0.123141  0.0"
      ]
     },
     "execution_count": 276,
     "metadata": {},
     "output_type": "execute_result"
    }
   ],
   "source": [
    "test_df.head()"
   ]
  },
  {
   "cell_type": "code",
   "execution_count": 259,
   "metadata": {},
   "outputs": [
    {
     "name": "stdout",
     "output_type": "stream",
     "text": [
      "CPU times: user 3min 30s, sys: 5.56 s, total: 3min 36s\n",
      "Wall time: 2min\n"
     ]
    }
   ],
   "source": [
    "%%time\n",
    "prediction = knn.predict(test_df)"
   ]
  },
  {
   "cell_type": "code",
   "execution_count": 277,
   "metadata": {},
   "outputs": [],
   "source": [
    "## Add prediction to DataFrame\n",
    "test_df['les_prediction'] = prediction"
   ]
  },
  {
   "cell_type": "code",
   "execution_count": 278,
   "metadata": {},
   "outputs": [
    {
     "data": {
      "text/html": [
       "<div>\n",
       "<style scoped>\n",
       "    .dataframe tbody tr th:only-of-type {\n",
       "        vertical-align: middle;\n",
       "    }\n",
       "\n",
       "    .dataframe tbody tr th {\n",
       "        vertical-align: top;\n",
       "    }\n",
       "\n",
       "    .dataframe thead th {\n",
       "        text-align: right;\n",
       "    }\n",
       "</style>\n",
       "<table border=\"1\" class=\"dataframe\">\n",
       "  <thead>\n",
       "    <tr style=\"text-align: right;\">\n",
       "      <th></th>\n",
       "      <th>t1</th>\n",
       "      <th>flair</th>\n",
       "      <th>les</th>\n",
       "      <th>les_prediction</th>\n",
       "    </tr>\n",
       "  </thead>\n",
       "  <tbody>\n",
       "    <tr>\n",
       "      <td>2187928</td>\n",
       "      <td>0.437730</td>\n",
       "      <td>0.202685</td>\n",
       "      <td>0.0</td>\n",
       "      <td>0.0</td>\n",
       "    </tr>\n",
       "    <tr>\n",
       "      <td>2187929</td>\n",
       "      <td>0.548742</td>\n",
       "      <td>0.191040</td>\n",
       "      <td>0.0</td>\n",
       "      <td>0.0</td>\n",
       "    </tr>\n",
       "    <tr>\n",
       "      <td>2188174</td>\n",
       "      <td>0.300309</td>\n",
       "      <td>0.149035</td>\n",
       "      <td>0.0</td>\n",
       "      <td>0.0</td>\n",
       "    </tr>\n",
       "    <tr>\n",
       "      <td>2188175</td>\n",
       "      <td>0.290746</td>\n",
       "      <td>0.146475</td>\n",
       "      <td>0.0</td>\n",
       "      <td>0.0</td>\n",
       "    </tr>\n",
       "    <tr>\n",
       "      <td>2188176</td>\n",
       "      <td>0.294400</td>\n",
       "      <td>0.123141</td>\n",
       "      <td>0.0</td>\n",
       "      <td>0.0</td>\n",
       "    </tr>\n",
       "  </tbody>\n",
       "</table>\n",
       "</div>"
      ],
      "text/plain": [
       "               t1     flair  les  les_prediction\n",
       "2187928  0.437730  0.202685  0.0             0.0\n",
       "2187929  0.548742  0.191040  0.0             0.0\n",
       "2188174  0.300309  0.149035  0.0             0.0\n",
       "2188175  0.290746  0.146475  0.0             0.0\n",
       "2188176  0.294400  0.123141  0.0             0.0"
      ]
     },
     "execution_count": 278,
     "metadata": {},
     "output_type": "execute_result"
    }
   ],
   "source": [
    "test_df.head()"
   ]
  },
  {
   "cell_type": "code",
   "execution_count": 279,
   "metadata": {},
   "outputs": [
    {
     "data": {
      "text/plain": [
       "10502.0"
      ]
     },
     "execution_count": 279,
     "metadata": {},
     "output_type": "execute_result"
    }
   ],
   "source": [
    "sum(test_df.les.values)"
   ]
  },
  {
   "cell_type": "code",
   "execution_count": 280,
   "metadata": {},
   "outputs": [
    {
     "data": {
      "text/plain": [
       "7573.0"
      ]
     },
     "execution_count": 280,
     "metadata": {},
     "output_type": "execute_result"
    }
   ],
   "source": [
    "sum(test_df.les_prediction.values)"
   ]
  },
  {
   "cell_type": "code",
   "execution_count": 283,
   "metadata": {},
   "outputs": [
    {
     "data": {
      "text/plain": [
       "5678"
      ]
     },
     "execution_count": 283,
     "metadata": {},
     "output_type": "execute_result"
    }
   ],
   "source": [
    "len(test_df[(test_df.les == test_df.les_prediction) & ((test_df.les ==1)|(test_df.les_prediction == 1))])"
   ]
  },
  {
   "cell_type": "markdown",
   "metadata": {},
   "source": [
    "### Plot Intensitites"
   ]
  },
  {
   "cell_type": "code",
   "execution_count": 265,
   "metadata": {},
   "outputs": [],
   "source": [
    "train_pos = df_nonzero[(df_nonzero.les == 1)].sample(n=100)\n",
    "train_neg = df_nonzero[(df_nonzero.les == 0)].sample(n=100)\n",
    "\n",
    "test_pos = test_df[(test_df.les == 1)].sample(100)\n",
    "test_neg = test_df[(test_df.les == 0)].sample(100)"
   ]
  },
  {
   "cell_type": "code",
   "execution_count": 271,
   "metadata": {},
   "outputs": [
    {
     "data": {
      "image/png": "[encoded data removed]",
      "text/plain": [
       "<Figure size 432x288 with 1 Axes>"
      ]
     },
     "metadata": {
      "needs_background": "light"
     },
     "output_type": "display_data"
    }
   ],
   "source": [
    "#IND2=np.random.randint(np.shape(t1_tissue)[0], size=flair_les.shape[0])\n",
    "fig = plt.figure()\n",
    "ax = fig.add_subplot(111)\n",
    "ax.scatter(train_neg.flair, train_neg.t1, marker = '.', c = 'b')\n",
    "ax.scatter(train_pos.flair, train_pos.t1, marker = '.', c = 'r' )\n",
    "ax.scatter(test_neg.flair, test_neg.t1, marker = 'v', c = 'b')\n",
    "ax.scatter(test_pos.flair, test_pos.t1, marker = 'v', c = 'r' )\n",
    "#ax.scatter(flair_les, t1_les, c='r', marker='^')\n",
    "ax.set_xlabel('flair')\n",
    "ax.set_ylabel('t1')\n",
    "plt.show()"
   ]
  },
  {
   "cell_type": "markdown",
   "metadata": {},
   "source": [
    "# Save Results"
   ]
  },
  {
   "cell_type": "code",
   "execution_count": 177,
   "metadata": {},
   "outputs": [],
   "source": [
    "save_path = '../WhiteMatterHyperintensities/Data/train'\n",
    "np.save(save_path + '/t1_tissue.npy', t1_tissue, allow_pickle=True, fix_imports=True)\n",
    "np.save(save_path + '/flair_tissue.npy', flair_tissue, allow_pickle=True, fix_imports=True)\n",
    "np.save(save_path + '/t1_les.npy', t1_les, allow_pickle=True, fix_imports=True)\n",
    "np.save(save_path + '/flair_les.npy', flair_les, allow_pickle=True, fix_imports=True)"
   ]
  }
 ],
 "metadata": {
  "kernelspec": {
   "display_name": "Python 3",
   "language": "python",
   "name": "python3"
  },
  "language_info": {
   "codemirror_mode": {
    "name": "ipython",
    "version": 3
   },
   "file_extension": ".py",
   "mimetype": "text/x-python",
   "name": "python",
   "nbconvert_exporter": "python",
   "pygments_lexer": "ipython3",
   "version": "3.6.7"
  }
 },
 "nbformat": 4,
 "nbformat_minor": 2
}
