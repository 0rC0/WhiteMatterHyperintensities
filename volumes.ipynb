{
 "cells": [
  {
   "cell_type": "code",
   "execution_count": 20,
   "metadata": {},
   "outputs": [],
   "source": [
    "import nibabel as nib\n",
    "import os\n",
    "import numpy as np\n",
    "import pandas as pd\n",
    "from glob import glob\n",
    "import re\n",
    "import multiprocess as mp\n",
    "import glob\n",
    "import time\n",
    "%matplotlib inline"
   ]
  },
  {
   "cell_type": "code",
   "execution_count": 3,
   "metadata": {},
   "outputs": [],
   "source": [
    "datadir = os.path.abspath('../20190801')"
   ]
  },
  {
   "cell_type": "markdown",
   "metadata": {},
   "source": [
    "# Help functions"
   ]
  },
  {
   "cell_type": "code",
   "execution_count": 4,
   "metadata": {},
   "outputs": [],
   "source": [
    "def fslstats_vol(f):\n",
    "    import subprocess\n",
    "    output = subprocess.check_output(['fslstats', f, '-V']).decode('utf-8').split( ' ')\n",
    "    return float(output[0]), float(output[1])\n",
    "\n",
    "def fslstats_mean(f):\n",
    "    import subprocess\n",
    "    output = subprocess.check_output(['fslstats', f, '-M']).decode('utf-8')\n",
    "    return float(output)"
   ]
  },
  {
   "cell_type": "markdown",
   "metadata": {},
   "source": [
    "Volume = Voxel count * Probability, the voxel belong to the Lesion (intensity in probability map)"
   ]
  },
  {
   "cell_type": "code",
   "execution_count": 24,
   "metadata": {},
   "outputs": [],
   "source": [
    "def calc_vols(i):\n",
    "    try:\n",
    "        lpa = os.path.join(datadir, '{0}/flair/ples_lpa_m{0}.flair_ro_n4_2t1Warped.nii'.format(i))\n",
    "        lga = os.path.join(datadir, '{0}/ples_lga_0.3_rm{0}.flair_ro.nii'.format(i))\n",
    "        return {i:{'lpa': fslstats_vol(lpa)[0] * fslstats_mean(lpa), \n",
    "                'lga': fslstats_vol(lga)[0] * fslstats_mean(lga)}}\n",
    "    except:\n",
    "        print('Problem with {}'.format(i))\n",
    "        \n",
    "def MPDicts2dict(list_of_dicts):\n",
    "    \"\"\"\n",
    "    Convert a list of dictionaries from multiprocess to dictionary\n",
    "    \"\"\"\n",
    "    d = dict()\n",
    "    for i in list_of_dicts:\n",
    "        if i.get():\n",
    "            d.update(i.get())\n",
    "    return d"
   ]
  },
  {
   "cell_type": "markdown",
   "metadata": {},
   "source": [
    "## Find subject IDs"
   ]
  },
  {
   "cell_type": "code",
   "execution_count": 18,
   "metadata": {},
   "outputs": [],
   "source": [
    "sub_ids = [ i for i in os.listdir(datadir) if i.startswith('SMART')]"
   ]
  },
  {
   "cell_type": "code",
   "execution_count": 19,
   "metadata": {},
   "outputs": [],
   "source": [
    "i = sub_ids[0]\n",
    "lpa = os.path.join(datadir, '{0}/flair/ples_lpa_m{0}.flair_ro_n4_2t1Warped.nii'.format(i))\n",
    "lga = os.path.join(datadir, '{0}/ples_lga_0.3_rm{0}.flair_ro.nii'.format(i))\n"
   ]
  },
  {
   "cell_type": "markdown",
   "metadata": {},
   "source": [
    "## Get Volumes"
   ]
  },
  {
   "cell_type": "code",
   "execution_count": 21,
   "metadata": {},
   "outputs": [
    {
     "name": "stdout",
     "output_type": "stream",
     "text": [
      "Problem with SMART021\n",
      "Problem with SMART040_T2_2\n",
      "Problem with SMART_REF019\n"
     ]
    }
   ],
   "source": [
    "pool = mp.Pool(processes=8)\n",
    "results = [pool.apply_async(calc_vols, args=(i,)) for i in sub_ids]"
   ]
  },
  {
   "cell_type": "code",
   "execution_count": 25,
   "metadata": {},
   "outputs": [],
   "source": [
    "output = MPDicts2dict(results)"
   ]
  },
  {
   "cell_type": "code",
   "execution_count": 28,
   "metadata": {
    "scrolled": true
   },
   "outputs": [],
   "source": [
    "df = pd.DataFrame.from_dict(output, orient = 'index')"
   ]
  },
  {
   "cell_type": "code",
   "execution_count": 29,
   "metadata": {},
   "outputs": [],
   "source": [
    "df.to_csv('vols.csv')"
   ]
  },
  {
   "cell_type": "code",
   "execution_count": null,
   "metadata": {},
   "outputs": [],
   "source": []
  }
 ],
 "metadata": {
  "kernelspec": {
   "display_name": "Python 3",
   "language": "python",
   "name": "python3"
  },
  "language_info": {
   "codemirror_mode": {
    "name": "ipython",
    "version": 3
   },
   "file_extension": ".py",
   "mimetype": "text/x-python",
   "name": "python",
   "nbconvert_exporter": "python",
   "pygments_lexer": "ipython3",
   "version": "3.6.7"
  }
 },
 "nbformat": 4,
 "nbformat_minor": 2
}
